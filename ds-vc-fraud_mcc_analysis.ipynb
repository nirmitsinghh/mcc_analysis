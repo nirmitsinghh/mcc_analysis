{
 "cells": [
  {
   "cell_type": "code",
   "execution_count": null,
   "id": "0eb25253",
   "metadata": {},
   "outputs": [],
   "source": [
    "import pandas as pd\n",
    "import seaborn as sns\n",
    "import json\n",
    "import janitor\n",
    "import sys\n",
    "import os\n",
    "import seaborn as sns\n",
    "import matplotlib.pyplot as plt\n",
    "pd. set_option('display.max_columns', None)\n",
    "pd. set_option('display.max_rows', 20)\n",
    "sns.set(rc={'figure.figsize':(15,10)})\n",
    "import warnings\n",
    "warnings.filterwarnings(\"ignore\")\n",
    "\n",
    "# module_path = os.path.abspath(os.path.join(''))\n",
    "# if module_path not in sys.path:\n",
    "#     sys.path.append(module_path+\"/python_sql/\")\n",
    "    \n",
    "from datetime import datetime,timedelta\n",
    "# import matplotlib.pyplot as plt\n",
    "# pd.set_option('display.max_columns', None)\n",
    "# pd.set_option('display.max_rows', 30)\n",
    "# sns.set(rc={'figure.figsize':(9,8)})\n",
    "# import warnings\n",
    "# warnings.filterwarnings(\"ignore\")"
   ]
  },
  {
   "cell_type": "code",
   "execution_count": null,
   "id": "b31902b0",
   "metadata": {},
   "outputs": [],
   "source": [
    "# pip install pyjanitor"
   ]
  },
  {
   "cell_type": "code",
   "execution_count": null,
   "id": "858f966b",
   "metadata": {},
   "outputs": [],
   "source": [
    "# pip install dataprep"
   ]
  },
  {
   "cell_type": "code",
   "execution_count": null,
   "id": "2e0854eb",
   "metadata": {},
   "outputs": [],
   "source": [
    "pd.set_option('display.float_format', lambda x: '%.2f' % x)\n",
    "import matplotlib.pyplot as plt\n",
    "plt.style.use('ggplot') # makes plot looks much nicer"
   ]
  },
  {
   "cell_type": "code",
   "execution_count": null,
   "id": "08222075",
   "metadata": {},
   "outputs": [],
   "source": [
    "from dataprep.eda import plot\n",
    "from dataprep.eda import create_report"
   ]
  },
  {
   "cell_type": "markdown",
   "id": "6b01404e",
   "metadata": {},
   "source": [
    "## Data Loading"
   ]
  },
  {
   "cell_type": "code",
   "execution_count": null,
   "id": "79618bbe",
   "metadata": {},
   "outputs": [],
   "source": [
    "from connect_sql import ConnectSQL\n",
    "connect_obj = ConnectSQL()\n",
    "vc = connect_obj.query_db(\"\"\"select * from vc_purchase_settled; \"\"\")"
   ]
  },
  {
   "cell_type": "code",
   "execution_count": null,
   "id": "e9be31e3",
   "metadata": {},
   "outputs": [],
   "source": [
    "# # Load VC Txn Data\n",
    "# vc = pd.read_csv('C:/Users/abhishek/Downloads/vc_fraud_01-09.csv')"
   ]
  },
  {
   "cell_type": "code",
   "execution_count": null,
   "id": "b17cc61e",
   "metadata": {},
   "outputs": [],
   "source": [
    "vc.head(2)"
   ]
  },
  {
   "cell_type": "code",
   "execution_count": null,
   "id": "97c2cdc4",
   "metadata": {},
   "outputs": [],
   "source": [
    "# vc.loan_id.value_counts()"
   ]
  },
  {
   "cell_type": "code",
   "execution_count": null,
   "id": "78328c52",
   "metadata": {},
   "outputs": [],
   "source": [
    "vc.shape"
   ]
  },
  {
   "cell_type": "code",
   "execution_count": null,
   "id": "08a2ecae",
   "metadata": {},
   "outputs": [],
   "source": [
    "vc=vc.drop('mcc',axis=1)"
   ]
  },
  {
   "cell_type": "code",
   "execution_count": null,
   "id": "e1f9a511",
   "metadata": {},
   "outputs": [],
   "source": [
    "# From String To Dict Conversion\n",
    "vc['msg_dict'] = vc['message'].apply(lambda x: json.loads(x))"
   ]
  },
  {
   "cell_type": "code",
   "execution_count": null,
   "id": "74beaa43",
   "metadata": {},
   "outputs": [],
   "source": [
    "vc['msg_dict'].iloc[0]"
   ]
  },
  {
   "cell_type": "code",
   "execution_count": null,
   "id": "59580a0e",
   "metadata": {},
   "outputs": [],
   "source": [
    "## Unmask the msg_dict Column\n",
    "exp_vc = pd.concat([vc.drop('msg_dict', axis=1), pd.DataFrame(vc['msg_dict'].tolist())], axis=1)"
   ]
  },
  {
   "cell_type": "code",
   "execution_count": null,
   "id": "cfa40ecf",
   "metadata": {},
   "outputs": [],
   "source": [
    "exp_vc.columns"
   ]
  },
  {
   "cell_type": "code",
   "execution_count": null,
   "id": "fde923eb",
   "metadata": {},
   "outputs": [],
   "source": [
    "select_cols = ['id','updated_at', 'eventCode', 'eventType', 'amount',\n",
    "        'timestamp', 'transactionCode','activityType', 'mcc', 'merchantName', 'merchantNumber','network', 'merchantLocation', 'msgEventId']\n",
    "df = exp_vc[select_cols]"
   ]
  },
  {
   "cell_type": "code",
   "execution_count": null,
   "id": "1dcff101",
   "metadata": {},
   "outputs": [],
   "source": [
    "df.head(2)"
   ]
  },
  {
   "cell_type": "code",
   "execution_count": null,
   "id": "7c15dce8",
   "metadata": {},
   "outputs": [],
   "source": [
    "# df[df['loan_id']=='885465']"
   ]
  },
  {
   "cell_type": "code",
   "execution_count": null,
   "id": "9d0534b2",
   "metadata": {},
   "outputs": [],
   "source": [
    "# df.loan_id.isna().sum()"
   ]
  },
  {
   "cell_type": "code",
   "execution_count": null,
   "id": "9a145476",
   "metadata": {},
   "outputs": [],
   "source": [
    "df.shape"
   ]
  },
  {
   "cell_type": "markdown",
   "id": "5516647e",
   "metadata": {},
   "source": [
    "## MCC -> Category JSON Loading"
   ]
  },
  {
   "cell_type": "code",
   "execution_count": null,
   "id": "0d6a45b8",
   "metadata": {},
   "outputs": [],
   "source": [
    "category_df = pd.read_json('mcc_codes.json')"
   ]
  },
  {
   "cell_type": "code",
   "execution_count": null,
   "id": "b8c2a9d6",
   "metadata": {},
   "outputs": [],
   "source": [
    "category_df.head()"
   ]
  },
  {
   "cell_type": "code",
   "execution_count": null,
   "id": "0de2cda5",
   "metadata": {},
   "outputs": [],
   "source": [
    "category_df.shape, category_df['mcc'].nunique(), category_df['irs_description'].nunique()"
   ]
  },
  {
   "cell_type": "code",
   "execution_count": null,
   "id": "74fdd57b",
   "metadata": {},
   "outputs": [],
   "source": [
    "df['mcc'].nunique()"
   ]
  },
  {
   "cell_type": "markdown",
   "id": "9f06d64e",
   "metadata": {},
   "source": [
    "# MCC -> Category Mapping Dictionay Creation"
   ]
  },
  {
   "cell_type": "code",
   "execution_count": null,
   "id": "c377dfbc",
   "metadata": {},
   "outputs": [],
   "source": [
    "# Creating Category -> Mcc Mapping \n",
    "mcc_cat_dict = {str(mcc) : category for mcc, category in zip(category_df['mcc'], category_df['irs_description'])}"
   ]
  },
  {
   "cell_type": "code",
   "execution_count": null,
   "id": "70025903",
   "metadata": {},
   "outputs": [],
   "source": [
    "df['category'] = [mcc_cat_dict.get(str(m), 'Others') for m in df['mcc']]"
   ]
  },
  {
   "cell_type": "code",
   "execution_count": null,
   "id": "e4f80ef9",
   "metadata": {},
   "outputs": [],
   "source": [
    "# category_df[category_df['mcc']==5964].values"
   ]
  },
  {
   "cell_type": "code",
   "execution_count": null,
   "id": "7268d450",
   "metadata": {},
   "outputs": [],
   "source": [
    "df.head(5)"
   ]
  },
  {
   "cell_type": "markdown",
   "id": "ccb2cbdc",
   "metadata": {},
   "source": [
    "## Category Distribution"
   ]
  },
  {
   "cell_type": "code",
   "execution_count": null,
   "id": "1dc68193",
   "metadata": {},
   "outputs": [],
   "source": [
    "# 405"
   ]
  },
  {
   "cell_type": "code",
   "execution_count": null,
   "id": "c12b2c75",
   "metadata": {},
   "outputs": [],
   "source": [
    "# plot(df_bad, \"bad_flag_7dpd_1quin\")"
   ]
  },
  {
   "cell_type": "code",
   "execution_count": null,
   "id": "e8b99a9e",
   "metadata": {},
   "outputs": [],
   "source": [
    "# Top 10 merchant category Distribution\n",
    "m = sns.countplot(y=\"category\", data=df, order=pd.value_counts(df['category']).iloc[:10].index)\n",
    "m.set( xlabel = \"Count\", ylabel = \"Merchant Category\", title=\"Top 10 Merchant Category Distribution\")"
   ]
  },
  {
   "cell_type": "code",
   "execution_count": null,
   "id": "ae0a1fd1",
   "metadata": {},
   "outputs": [],
   "source": [
    "## Top 10 Mcc Code Distribution\n",
    "c = sns.countplot(y=\"mcc\", data=df, order=pd.value_counts(df['mcc']).iloc[:10].index)\n",
    "c.set( xlabel = \"Count\", ylabel = \"MCC Code\", title=\"Top 10 MCC Code Distribution\")"
   ]
  },
  {
   "cell_type": "code",
   "execution_count": null,
   "id": "bb3239e4",
   "metadata": {},
   "outputs": [],
   "source": [
    "## Top 10 Merchant Name Distribution\n",
    "d = sns.countplot(y=\"merchantName\", data=df, order=pd.value_counts(df['merchantName']).iloc[:30].index)\n",
    "d.set( xlabel = \"Count\", ylabel = \"Merchant\", title=\"Top 30 Merchants\")"
   ]
  },
  {
   "cell_type": "markdown",
   "id": "b3b65db0",
   "metadata": {},
   "source": [
    "## Merchants Distribution"
   ]
  },
  {
   "cell_type": "code",
   "execution_count": null,
   "id": "58e7ee4d",
   "metadata": {},
   "outputs": [],
   "source": [
    "# df['category'].value_counts()[:10].plot(kind='barh')"
   ]
  },
  {
   "cell_type": "code",
   "execution_count": null,
   "id": "4df531ea",
   "metadata": {},
   "outputs": [],
   "source": [
    "plot(df, \"merchantName\")"
   ]
  },
  {
   "cell_type": "code",
   "execution_count": null,
   "id": "9afbae79",
   "metadata": {},
   "outputs": [],
   "source": [
    "df['merchantName'].value_counts()[:30].plot(kind='barh') ## "
   ]
  },
  {
   "cell_type": "code",
   "execution_count": null,
   "id": "a69175ed",
   "metadata": {},
   "outputs": [],
   "source": [
    "df[df['merchantName']=='PAYPAL4'].head(5)"
   ]
  },
  {
   "cell_type": "code",
   "execution_count": null,
   "id": "8897134b",
   "metadata": {},
   "outputs": [],
   "source": [
    "df[df['merchantName'].isin(['MERCADO PAGO 1', 'MERCADO PAGO 4', 'SNP*MERCADOPAGO'])].head(5)  ## Merchant Cleaning Required"
   ]
  },
  {
   "cell_type": "code",
   "execution_count": null,
   "id": "cf5f9091",
   "metadata": {},
   "outputs": [],
   "source": [
    "df.columns"
   ]
  },
  {
   "cell_type": "markdown",
   "id": "cef60c83",
   "metadata": {},
   "source": [
    "## Location Distribution"
   ]
  },
  {
   "cell_type": "code",
   "execution_count": null,
   "id": "3847867e",
   "metadata": {},
   "outputs": [],
   "source": [
    "plot(df, \"merchantLocation\")"
   ]
  },
  {
   "cell_type": "code",
   "execution_count": null,
   "id": "10c51a01",
   "metadata": {},
   "outputs": [],
   "source": [
    "# plot(df, \"amount\")"
   ]
  },
  {
   "cell_type": "markdown",
   "id": "f63bf1e7",
   "metadata": {},
   "source": [
    "## MCC Distribution"
   ]
  },
  {
   "cell_type": "code",
   "execution_count": null,
   "id": "839237d1",
   "metadata": {},
   "outputs": [],
   "source": [
    "plot(df, \"mcc\")"
   ]
  },
  {
   "cell_type": "code",
   "execution_count": null,
   "id": "9388db83",
   "metadata": {},
   "outputs": [],
   "source": [
    "category_df['mcc'].nunique()"
   ]
  },
  {
   "cell_type": "code",
   "execution_count": null,
   "id": "ee37f539",
   "metadata": {},
   "outputs": [],
   "source": [
    "## Txnn AMount vs Category Wise"
   ]
  },
  {
   "cell_type": "code",
   "execution_count": null,
   "id": "6838b518",
   "metadata": {},
   "outputs": [],
   "source": [
    "df = df[~df['category'].isnull()]\n",
    "test = df.groupby(['category', 'mcc']).size().reset_index(name='count').drop(0).sort_values(by='count', ascending=True)"
   ]
  },
  {
   "cell_type": "code",
   "execution_count": null,
   "id": "190fe0f0",
   "metadata": {},
   "outputs": [],
   "source": [
    "test.to_csv('merchant_category_count.csv', index=False)"
   ]
  },
  {
   "cell_type": "code",
   "execution_count": null,
   "id": "b736c85b",
   "metadata": {},
   "outputs": [],
   "source": [
    "df[['mcc', 'category', 'merchantName']].to_csv('vc_merchant_data.csv', index=False)"
   ]
  },
  {
   "cell_type": "code",
   "execution_count": null,
   "id": "98127187",
   "metadata": {},
   "outputs": [],
   "source": [
    "category_df.rename({'irs_description': 'category'}, inplace=True)\n",
    "category_df[['mcc', 'irs_description']].to_csv('mcc_category_mapping.csv', index=False)"
   ]
  },
  {
   "cell_type": "markdown",
   "id": "d62db624",
   "metadata": {},
   "source": [
    "## High Frequency MCC, Category, Merchant Name & Location"
   ]
  },
  {
   "cell_type": "code",
   "execution_count": null,
   "id": "11d07b0c",
   "metadata": {},
   "outputs": [],
   "source": [
    "hf_sample = df[df['mcc'].isin(['5964', '4816', '5399'])][['mcc', 'merchantName', 'category', 'merchantLocation']]\n",
    "sample_report = create_report(hf_sample, title='VC HF Report')"
   ]
  },
  {
   "cell_type": "code",
   "execution_count": null,
   "id": "1b2d4ad9",
   "metadata": {},
   "outputs": [],
   "source": [
    "sample_report"
   ]
  },
  {
   "cell_type": "markdown",
   "id": "897bdec0",
   "metadata": {},
   "source": [
    "# deliquency"
   ]
  },
  {
   "cell_type": "code",
   "execution_count": null,
   "id": "f391ac93",
   "metadata": {},
   "outputs": [],
   "source": [
    "# m_name=pd.read_csv(\"e:/data/merchant_name_20220907.csv\")"
   ]
  },
  {
   "cell_type": "code",
   "execution_count": null,
   "id": "25b455d5",
   "metadata": {},
   "outputs": [],
   "source": [
    "# loan_id=pd.read_csv(\"e:/data/vps_id_loan_id_20220907.csv\").drop(columns='customer_id')\n",
    "\n",
    "# df=pd.merge(df,loan_id,on='id',how='inner')"
   ]
  },
  {
   "cell_type": "code",
   "execution_count": null,
   "id": "103cf269",
   "metadata": {},
   "outputs": [],
   "source": [
    "from connect_sql import ConnectSQL\n",
    "connect_obj = ConnectSQL()\n",
    "loan_id = connect_obj.query_db(\"\"\"\n",
    "select vps.id,vc.loan_id,l.total_price,l.customer_id  from vc_purchase_settled vps \n",
    "left join vc_balance vcb on cast(vps.balance_id as int)=vcb.id\n",
    "left join vw_vc_accounts_info vc on vc.id=vcb.loan_card_id\n",
    "left join loan l on vc.loan_id = l.id; \"\"\")\n",
    "\n",
    "loan_id.head()"
   ]
  },
  {
   "cell_type": "code",
   "execution_count": null,
   "id": "0f03fbe6",
   "metadata": {},
   "outputs": [],
   "source": [
    "df=pd.merge(df,loan_id,on='id',how='inner')"
   ]
  },
  {
   "cell_type": "code",
   "execution_count": null,
   "id": "9fe28d4a",
   "metadata": {},
   "outputs": [],
   "source": [
    "df=df[['merchantName','mcc','category','loan_id','total_price']]"
   ]
  },
  {
   "cell_type": "code",
   "execution_count": null,
   "id": "a4031485",
   "metadata": {},
   "outputs": [],
   "source": [
    "df=df.drop_duplicates()"
   ]
  },
  {
   "cell_type": "code",
   "execution_count": null,
   "id": "ced89ed4",
   "metadata": {},
   "outputs": [],
   "source": [
    "bad_flag=pd.read_feather(\"loan_level_data2022-10-26.ft\")\n",
    "bad_flag.head()"
   ]
  },
  {
   "cell_type": "code",
   "execution_count": null,
   "id": "d437af78",
   "metadata": {},
   "outputs": [],
   "source": [
    "df_bad=pd.merge(df,bad_flag,on='loan_id',how='inner')"
   ]
  },
  {
   "cell_type": "code",
   "execution_count": null,
   "id": "5e16eeae",
   "metadata": {},
   "outputs": [],
   "source": [
    "df_bad.head()"
   ]
  },
  {
   "cell_type": "code",
   "execution_count": null,
   "id": "701645c3",
   "metadata": {},
   "outputs": [],
   "source": [
    "df_bad[df_bad['mcc']==9222]"
   ]
  },
  {
   "cell_type": "code",
   "execution_count": null,
   "id": "a2915473",
   "metadata": {},
   "outputs": [],
   "source": [
    "df_bad.loan_id.value_counts()"
   ]
  },
  {
   "cell_type": "code",
   "execution_count": null,
   "id": "c3ff45e6",
   "metadata": {},
   "outputs": [],
   "source": [
    "df_bad['bad_flag_7dpd_1quin'].mean()"
   ]
  },
  {
   "cell_type": "code",
   "execution_count": null,
   "id": "f1266e26",
   "metadata": {},
   "outputs": [],
   "source": [
    "df_bad['bad_flag_15dpd_1quins'].mean()"
   ]
  },
  {
   "cell_type": "code",
   "execution_count": null,
   "id": "9b93b321",
   "metadata": {},
   "outputs": [],
   "source": [
    "mcc_bad_rate=df_bad.groupby('mcc').agg({'bad_flag_7dpd_1quin':'mean','bad_flag_15dpd_1quins':'mean','loan_id':'count','total_price':'sum'}).reset_index()\n",
    "mcc_bad_rate.rename(columns = {'loan_id':'total_count','total_price':'gmv'}, inplace = True)\n",
    "mcc_bad_rate"
   ]
  },
  {
   "cell_type": "code",
   "execution_count": null,
   "id": "dc31e98b",
   "metadata": {},
   "outputs": [],
   "source": [
    "7801\n",
    "7800\n",
    "9406\n",
    "9222"
   ]
  },
  {
   "cell_type": "code",
   "execution_count": null,
   "id": "bf2a3806",
   "metadata": {},
   "outputs": [],
   "source": [
    "df_bad[df_bad['mcc']==9222]"
   ]
  },
  {
   "cell_type": "code",
   "execution_count": null,
   "id": "a0542290",
   "metadata": {},
   "outputs": [],
   "source": [
    "mcc_bad_rate[mcc_bad_rate['mcc']==9222]"
   ]
  },
  {
   "cell_type": "code",
   "execution_count": null,
   "id": "3380bcf9",
   "metadata": {},
   "outputs": [],
   "source": [
    "mcc_bad_rate1=mcc_bad_rate[mcc_bad_rate['total_count']>5]\n",
    "mcc_bad_rate1"
   ]
  },
  {
   "cell_type": "code",
   "execution_count": null,
   "id": "dadf0e80",
   "metadata": {},
   "outputs": [],
   "source": [
    "mcc_bad_rate2=pd.merge(mcc_bad_rate1,df_bad[['mcc','category']],on='mcc',how='inner').drop_duplicates(subset=['mcc']).sort_values(by=['bad_flag_7dpd_1quin'],ascending=False)"
   ]
  },
  {
   "cell_type": "code",
   "execution_count": null,
   "id": "d3fd0bac",
   "metadata": {},
   "outputs": [],
   "source": [
    "mcc_bad_rate2.head(20)"
   ]
  },
  {
   "cell_type": "code",
   "execution_count": null,
   "id": "1114f72d",
   "metadata": {},
   "outputs": [],
   "source": [
    "mcc_bad_rate2.to_csv('top_20_bad_mcc.csv',index=False)"
   ]
  },
  {
   "cell_type": "code",
   "execution_count": null,
   "id": "81414b09",
   "metadata": {},
   "outputs": [],
   "source": [
    "# mcc_bad_rate1.sort_values()"
   ]
  },
  {
   "cell_type": "code",
   "execution_count": null,
   "id": "f0f075c0",
   "metadata": {},
   "outputs": [],
   "source": [
    "bad_rate=(df_bad.groupby('loan_start_date')\n",
    "        .agg(bad_flag=('bad_flag_7dpd_1quin','mean'))\n",
    "        .reset_index())\n",
    "\n",
    "import plotly.express as px\n",
    "px.line(bad_rate,x='loan_start_date',y='bad_flag')"
   ]
  },
  {
   "cell_type": "markdown",
   "id": "ef8a5021",
   "metadata": {},
   "source": [
    "### VC_category_bad_rate"
   ]
  },
  {
   "cell_type": "code",
   "execution_count": null,
   "id": "e043c51c",
   "metadata": {},
   "outputs": [],
   "source": [
    "category=(df_bad.groupby('category').agg(total_amount=('total_price','sum'),\n",
    "                                  average_amount=('total_price','mean'),\n",
    "                                  bad_flag=('bad_flag_7dpd_1quin','mean'),\n",
    "                                  no_of_unique_customers=('customer_id','count'))\n",
    "                            .reset_index()\n",
    "                            )\n",
    "\n",
    "sns.barplot( data=category.sort_values(by='average_amount',ascending=False).iloc[:30],y=\"category\",x='average_amount')\n",
    "plt.show()"
   ]
  },
  {
   "cell_type": "code",
   "execution_count": null,
   "id": "e781a8d3",
   "metadata": {},
   "outputs": [],
   "source": [
    "m=sns.barplot( data=category.sort_values(by='bad_flag',ascending=False).iloc[:30],y=\"category\",x='bad_flag')\n",
    "plt.xticks(rotation=90)\n",
    "plt.show()"
   ]
  },
  {
   "cell_type": "code",
   "execution_count": null,
   "id": "ded572ec",
   "metadata": {},
   "outputs": [],
   "source": [
    "category.sort_values(by='no_of_unique_customers',ascending=False).head(10)"
   ]
  },
  {
   "cell_type": "code",
   "execution_count": null,
   "id": "c5c61f5a",
   "metadata": {},
   "outputs": [],
   "source": [
    "category.to_csv(\"category_wise_bad_rate_2022_10_26.csv\",index=0)"
   ]
  },
  {
   "cell_type": "markdown",
   "id": "a0fefbb5",
   "metadata": {},
   "source": [
    "### VC_merchant_bad_rate"
   ]
  },
  {
   "cell_type": "code",
   "execution_count": null,
   "id": "4050c2ad",
   "metadata": {},
   "outputs": [],
   "source": [
    "merchant=(df_bad.groupby('merchantName').agg(total_amount_in_vc_loans=('total_price','sum'),\n",
    "                                  average_amount_in_vc_loans=('total_price','mean'),\n",
    "                                  bad_flag=('bad_flag_7dpd_1quin','mean'),\n",
    "                                  no_of_unique_customers=('customer_id','count'))\n",
    "                                .reset_index()\n",
    "                                .sort_values(by='bad_flag',ascending=False).iloc[:50])\n",
    "\n",
    "m=sns.barplot( data=merchant,y=\"merchantName\",x='bad_flag')\n",
    "plt.show()"
   ]
  },
  {
   "cell_type": "code",
   "execution_count": null,
   "id": "426fc6a8",
   "metadata": {
    "scrolled": true
   },
   "outputs": [],
   "source": [
    "merchant.sort_values(by='no_of_unique_customers',ascending=False).head(20)"
   ]
  },
  {
   "cell_type": "code",
   "execution_count": null,
   "id": "5acbbb04",
   "metadata": {},
   "outputs": [],
   "source": [
    "merchant.to_csv(\"merchant_wise_bad_rate_2022_10_26.csv\",index=0)"
   ]
  },
  {
   "cell_type": "code",
   "execution_count": null,
   "id": "75c5053b",
   "metadata": {},
   "outputs": [],
   "source": []
  }
 ],
 "metadata": {
  "kernelspec": {
   "display_name": "conda_python3",
   "language": "python",
   "name": "conda_python3"
  },
  "language_info": {
   "codemirror_mode": {
    "name": "ipython",
    "version": 3
   },
   "file_extension": ".py",
   "mimetype": "text/x-python",
   "name": "python",
   "nbconvert_exporter": "python",
   "pygments_lexer": "ipython3",
   "version": "3.8.12"
  }
 },
 "nbformat": 4,
 "nbformat_minor": 5
}
